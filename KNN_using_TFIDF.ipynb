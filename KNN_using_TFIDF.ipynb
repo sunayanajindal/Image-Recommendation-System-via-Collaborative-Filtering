{
  "cells": [
    {
      "cell_type": "markdown",
      "metadata": {
        "id": "KqwEWAIJNFc5"
      },
      "source": [
        "# Image Recommendation System via Collaborative Filtering"
      ]
    },
    {
      "cell_type": "markdown",
      "metadata": {
        "id": "MdFQ3WEBNFdN"
      },
      "source": [
        "# ***Please read the instructions very carefully***"
      ]
    },
    {
      "cell_type": "markdown",
      "metadata": {
        "id": "Dz4WAdscNFdP"
      },
      "source": [
        "1.   Assignment must be implemented in Python 3 only.\n",
        "2.   You are allowed to use libraries for data preprocessing (numpy, pandas, nltk etc) and for evaluation metrics, data visualization (matplotlib etc.).\n",
        "3.   You will be evaluated not just on the overall performance of the model and also on the experimentation with hyper parameters, data prepossessing techniques etc.\n",
        "4.   ⚠️ The Assignment will be evaluated automatically. Please adhere to taking proper inputs from `config.csv` file. You can change your `config.csv` file to experiment with your code. But at the end, make sure that your outputs are corresponding to input values in `config.csv`\n",
        "5.   Strict plagiarism checking will be done. An F will be awarded for plagiarism."
      ]
    },
    {
      "cell_type": "markdown",
      "metadata": {
        "id": "4T0C3r-oNFdT"
      },
      "source": [
        "## About the Dataset\n",
        "Behance is a community art website where users showcase and discover creative work. Each user is able to “appreciate” (equivalent to a “like” on Instagram or a “react” on Facebook) an image, indicating that they like the image. It is in the website’s best interests to show users pictures that they would like, to keep them engaged for longer. For this question, given a set of pictures that a user has already appreciated, you have to show them a new picture that they would like based on what similar users appreciated.\n",
        "\n",
        "\n",
        "<br><br>\n",
        "**The dataset has information of 1 million appreciates of 63,497 users on 178,788 items. The file Behance appreciate 1M has a triplet in each line in the form of (user id, item id, unix timestamp).**"
      ]
    },
    {
      "cell_type": "markdown",
      "metadata": {
        "id": "CstJJPdMNFdW"
      },
      "source": [
        "**Task: Take the inputs from the config.csv file and output the recommendations for a particular person**\n",
        "- Collaborative Filtering is a way to predict items to the user based on the the\n",
        "user’s history and the history of similar users. The similarity between users can be quantified by the number of images that both the users appreciated.\n",
        "- The images appreciated by a similar user would be the most suitable images to show a user. Since we can find the similarity between any two users, we would be able to find the “nearest” neighbours of any user, allowing us to use a KNN-based algorithm to recommend new images to a user.\n",
        "- Since people do not like seeing pictures that they have seen already. Make sure that you do not recommend pictures that a user has appreciated already.\n",
        "- Output the final response will be saved in the file named ```config['output_file']```.\n"
      ]
    },
    {
      "cell_type": "markdown",
      "metadata": {
        "id": "uak45KLXNFdZ"
      },
      "source": [
        "**Output file format:**\n",
        "Populate the output file with images that the user has not seen of the k most\n",
        "similar users, in descending order of their similarity. Each line in the output\n",
        "file should be a duplet in the form of (item id, user id), where the user id is the\n",
        "id of the kth similar user. The order of the images corresponding to the same\n",
        "similar user would not matter. The output file would look something like this:\n",
        "```\n",
        "item_id_1_of_1st_similar_user 1st_most_similar_user_id\n",
        "item_id_2_of_1st_similar_user 1st_most_similar_user_id\n",
        "item_id_3_of_1st_similar_user 1st_most_similar_user_id\n",
        "...\n",
        "item_id_1_of_2nd_similar_user 2nd_most_similar_user_id\n",
        "item_id_2_of_2nd_similar_user 2nd_most_similar_user_id\n",
        "item_id_3_of_2nd_similar_user 2nd_most_similar_user_id\n",
        "...\n",
        "item_id_1_of_kth_similar_user kth_most_similar_user_id\n",
        "item_id_2_of_kth_similar_user kth_most_similar_user_id\n",
        "item_id_3_of_kth_similar_user kth_most_similar_user_id\n",
        "```"
      ]
    },
    {
      "cell_type": "markdown",
      "metadata": {
        "id": "bTdbb6snNFdc"
      },
      "source": [
        "The dataset was extracted using Behance’s API as a part of the paper\n",
        "“Vista: A visually, socially, and temporally-aware model for artistic\n",
        "recommendation, RecSys, 2016”. Check out this [Google Drive folder](https://drive.google.com/drive/folders/0B9Ck8jw-TZUEc3NlMjVXdDlPU1k?resourcekey=0-6_8ykn0o4fLc5fuTEm91xA) for\n",
        "more information about the dataset.\n",
        "\n",
        "\n",
        "Have fun! The users are waiting to see new pictures!"
      ]
    },
    {
      "cell_type": "markdown",
      "metadata": {
        "id": "gJtqot9BNFdg"
      },
      "source": [
        "### Import necessary libraries"
      ]
    },
    {
      "cell_type": "code",
      "execution_count": 1,
      "metadata": {
        "id": "-fTl2v1RNFdk"
      },
      "outputs": [],
      "source": [
        "import numpy as np\n",
        "import pandas as pd\n",
        "from numpy import dot\n",
        "from numpy.linalg import norm"
      ]
    },
    {
      "cell_type": "code",
      "execution_count": 2,
      "metadata": {
        "id": "xLUb8TByNFds"
      },
      "outputs": [],
      "source": [
        "# Config Generation Sample Code.\n",
        "# ⚠️ Only for experimentation on your side.\n",
        "# ⚠️ Should be commented during submission.\n",
        "\n",
        "# df = pd.DataFrame(data=[{'id':276633,\n",
        "#                   'k':5,\n",
        "#                   'dataset_file':'./Behance_appreciate_1M',\n",
        "#                   'output_file':'./output.txt'}])\n",
        "# df.to_csv('config.csv')"
      ]
    },
    {
      "cell_type": "code",
      "execution_count": 3,
      "metadata": {
        "colab": {
          "base_uri": "https://localhost:8080/"
        },
        "id": "-HFGBU7cNFdv",
        "outputId": "3ec2852d-0f63-41c9-d111-0e5724a7eee0"
      },
      "outputs": [
        {
          "output_type": "stream",
          "name": "stdout",
          "text": [
            "Unnamed: 0                            0\n",
            "id                               276633\n",
            "k                                     5\n",
            "dataset_file    ./Behance_appreciate_1M\n",
            "output_file                ./output.txt\n",
            "Name: 0, dtype: object\n"
          ]
        }
      ],
      "source": [
        "config = pd.read_csv('config.csv').iloc[0]\n",
        "print(config)"
      ]
    },
    {
      "cell_type": "code",
      "execution_count": 4,
      "metadata": {
        "id": "dP0stvmZNFdy"
      },
      "outputs": [],
      "source": [
        "user = config['id']\n",
        "k_value = config['k']"
      ]
    },
    {
      "cell_type": "markdown",
      "metadata": {
        "id": "NB0JD7xmNFdz"
      },
      "source": [
        "### Read the Data"
      ]
    },
    {
      "cell_type": "code",
      "execution_count": 5,
      "metadata": {
        "id": "yJGIDpO9NFd1"
      },
      "outputs": [],
      "source": [
        "with open(config['dataset_file'], 'r') as inFile:\n",
        "    appreciate_data = inFile.readlines()"
      ]
    },
    {
      "cell_type": "markdown",
      "metadata": {
        "id": "c8f733FoNFd3"
      },
      "source": [
        "### Initialize a dictionary to store the item_ids that a user likes\n",
        "\n",
        "### Go through each line of the input file and construct the user_likes dictionary"
      ]
    },
    {
      "cell_type": "code",
      "execution_count": 6,
      "metadata": {
        "id": "6p2e8SXUNFd4"
      },
      "outputs": [],
      "source": [
        "user_likes = dict()"
      ]
    },
    {
      "cell_type": "code",
      "execution_count": 7,
      "metadata": {
        "id": "EtNAQQkBNFd6"
      },
      "outputs": [],
      "source": [
        "for line in appreciate_data:\n",
        "    line = line.strip()\n",
        "    \n",
        "    user_id = int(line.split()[0])\n",
        "    item_id = int(line.split()[1])\n",
        "\n",
        "    if user_id not in user_likes:\n",
        "        user_likes[user_id] = list()\n",
        "    \n",
        "    user_likes[user_id].append(item_id)\n",
        "\n",
        "# print(user_likes)"
      ]
    },
    {
      "cell_type": "code",
      "execution_count": 8,
      "metadata": {
        "id": "-rp5SqeFadm1"
      },
      "outputs": [],
      "source": [
        "user_index={}\n",
        "index_user={}\n",
        "x=0\n",
        "for k,v in user_likes.items():\n",
        "    user_index[k]=x\n",
        "    index_user[x]=k\n",
        "    x+=1\n",
        "\n",
        "image_index={}\n",
        "x=0\n",
        "for k,v in user_likes.items():\n",
        "    for img in v:\n",
        "        if img not in image_index:\n",
        "            image_index[img]=x\n",
        "            x+=1\n",
        "\n",
        "# print(user_index)\n",
        "# print(image_index)"
      ]
    },
    {
      "cell_type": "code",
      "execution_count": 9,
      "metadata": {
        "id": "qZ53f7CAq6bj"
      },
      "outputs": [],
      "source": [
        "user_list=[]\n",
        "image_list=[]\n",
        "for line in appreciate_data:\n",
        "    line = line.strip()\n",
        "    user_id = int(line.split()[0])\n",
        "    item_id = int(line.split()[1])\n",
        "    user_list.append(user_index[user_id])\n",
        "    image_list.append(image_index[item_id])"
      ]
    },
    {
      "cell_type": "code",
      "execution_count": 10,
      "metadata": {
        "id": "F-j7W05ub3GK"
      },
      "outputs": [],
      "source": [
        "from scipy.sparse import csr_matrix\n",
        "row = np.array(user_list)\n",
        "col = np.array(image_list)\n",
        "data = np.ones(row.shape[0])\n",
        "csr_ob=csr_matrix((data, (row, col)), shape=(len(user_index), len(image_index)))"
      ]
    },
    {
      "cell_type": "code",
      "execution_count": 11,
      "metadata": {
        "id": "NBd3Me5NsNGL"
      },
      "outputs": [],
      "source": [
        "from sklearn.decomposition import TruncatedSVD\n",
        "svd = TruncatedSVD(n_components=1000)\n",
        "mat=svd.fit_transform(csr_ob)\n",
        "# print(svd.explained_variance_ratio_.sum())\n",
        "# print(mat)"
      ]
    },
    {
      "cell_type": "code",
      "execution_count": 12,
      "metadata": {
        "id": "vNnwtZ6KzqKH"
      },
      "outputs": [],
      "source": [
        "def cosine_similarity(List1,List2):\n",
        "    result = dot(List1, List2)/(norm(List1)*norm(List2))\n",
        "    return result\n",
        "\n",
        "similarity2 = {}\n",
        "usr_list = mat[user_index[user]]\n",
        "for row in range(len(mat)):\n",
        "    value = cosine_similarity(usr_list,mat[row])\n",
        "    similarity2[index_user[row]]=value\n",
        "\n",
        "sorted_similarity = dict(sorted(similarity2.items(), key=lambda x: x[1], reverse = True))"
      ]
    },
    {
      "cell_type": "markdown",
      "metadata": {
        "id": "A68g5GUzNFeH"
      },
      "source": [
        "### Use KNN after Collaborative Filtering to find nearest neighbors"
      ]
    },
    {
      "cell_type": "code",
      "execution_count": 13,
      "metadata": {
        "id": "FrcMgl0INFeI"
      },
      "outputs": [],
      "source": [
        "images={}\n",
        "def neighbors(user,k_value):\n",
        "    \"\"\" returns an iterable object (like list or generator) \"\"\"\n",
        "    for id,sim in sorted_similarity.items():\n",
        "        if id not in images:\n",
        "            images[id]=list()\n",
        "        for item in user_likes[id]:\n",
        "            if item not in user_likes[user]:\n",
        "                images[id].append(item)\n",
        "        if(len(images[id])!=0):\n",
        "            k_value=k_value-1\n",
        "        if k_value==0:\n",
        "          for i in images:\n",
        "            for j in images[i]:\n",
        "              print(i,j)\n",
        "            return images\n",
        "    pass"
      ]
    },
    {
      "cell_type": "markdown",
      "metadata": {
        "id": "mUGtnCpdNFeJ"
      },
      "source": [
        "### Open the output file to write all the lines to the file"
      ]
    },
    {
      "cell_type": "code",
      "execution_count": 14,
      "metadata": {
        "id": "w2SkCvVoNFeK"
      },
      "outputs": [],
      "source": [
        "outFile = open('output.txt', 'w')\n",
        "for n_user,lis in neighbors(user,k_value).items():\n",
        "    for item_id in lis:\n",
        "        outFile.write(str(item_id) + ' ' + str(n_user) + '\\n')\n",
        "\n",
        "outFile.close()"
      ]
    }
  ],
  "metadata": {
    "colab": {
      "collapsed_sections": [],
      "name": "2021201067_assignment1_question1.ipynb",
      "provenance": []
    },
    "kernelspec": {
      "display_name": "Python 3",
      "language": "python",
      "name": "python3"
    },
    "language_info": {
      "codemirror_mode": {
        "name": "ipython",
        "version": 3
      },
      "file_extension": ".py",
      "mimetype": "text/x-python",
      "name": "python",
      "nbconvert_exporter": "python",
      "pygments_lexer": "ipython3",
      "version": "3.7.12"
    }
  },
  "nbformat": 4,
  "nbformat_minor": 0
}