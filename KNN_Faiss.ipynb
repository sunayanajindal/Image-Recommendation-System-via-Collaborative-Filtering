{
  "cells": [
    {
      "cell_type": "markdown",
      "id": "866ed254",
      "metadata": {
        "id": "866ed254"
      },
      "source": [
        "# Approximate Nearest Neighbors:\n",
        "\n",
        "# Image Recommendation System via Collaborative Filtering"
      ]
    },
    {
      "cell_type": "markdown",
      "id": "2e08937a",
      "metadata": {
        "id": "2e08937a"
      },
      "source": [
        "# ***Please read the instructions very carefully***\n",
        "This is a modified version of the previous question and requires you to use an artificial nearest neighbors library\n",
        "\n",
        "We suggest you to use one of the following:\n",
        "- [ScaNN](https://github.com/google-research/google-research/tree/master/scann)\n",
        "- [FAISS](https://github.com/facebookresearch/faiss)\n",
        "- [Annoy](https://github.com/spotify/annoy.git)"
      ]
    },
    {
      "cell_type": "markdown",
      "id": "489a4212",
      "metadata": {
        "id": "489a4212"
      },
      "source": [
        "1.   Assignment must be implemented in Python 3 only.\n",
        "2.   You are allowed to use libraries for data preprocessing (numpy, pandas, nltk etc) and for evaluation metrics, data visualization (matplotlib etc.).\n",
        "3.   You will be evaluated not just on the overall performance of the model and also on the experimentation with hyper parameters, data prepossessing techniques etc.\n",
        "4.   ⚠️ The Assignment will be evaluated automatically. Please adhere to taking proper inputs from `config.csv` file. You can change your `config.csv` file to experiment with your code. But at the end, make sure that your outputs are corresponding to input values in `config.csv`\n",
        "5.   Strict plagiarism checking will be done. An F will be awarded for plagiarism."
      ]
    },
    {
      "cell_type": "markdown",
      "id": "f494560c",
      "metadata": {
        "id": "f494560c"
      },
      "source": [
        "## About the Dataset\n",
        "Behance is a community art website where users showcase and discover creative work. Each user is able to “appreciate” (equivalent to a “like” on Instagram or a “react” on Facebook) an image, indicating that they like the image. It is in the website’s best interests to show users pictures that they would like, to keep them engaged for longer. For this question, given a set of pictures that a user has already appreciated, you have to show them a new picture that they would like based on what similar users appreciated.\n",
        "\n",
        "\n",
        "<br><br>\n",
        "**The dataset has information of 1 million appreciates of 63,497 users on 178,788 items. The file Behance appreciate 1M has a triplet in each line in the form of (user id, item id, unix timestamp).**"
      ]
    },
    {
      "cell_type": "markdown",
      "id": "d8dd3f15",
      "metadata": {
        "id": "d8dd3f15"
      },
      "source": [
        "**Task: Take the inputs from the config.csv file and output the recommendations for a particular person**\n",
        "- Collaborative Filtering is a way to predict items to the user based on the the\n",
        "user’s history and the history of similar users. The similarity between users can be quantified by the number of images that both the users appreciated.\n",
        "- The images appreciated by a similar user would be the most suitable images to show a user. Since we can find the similarity between any two users, we would be able to find the “nearest” neighbours of any user, allowing us to use a KNN-based algorithm to recommend new images to a user.\n",
        "- Since people do not like seeing pictures that they have seen already. Make sure that you do not recommend pictures that a user has appreciated already.\n",
        "- Output the final response will be saved in the file named ```config['output_file']```.\n"
      ]
    },
    {
      "cell_type": "markdown",
      "id": "68a52fe5",
      "metadata": {
        "id": "68a52fe5"
      },
      "source": [
        "**Output file format:**\n",
        "Populate the output file with images that the user has not seen of the k most\n",
        "similar users, in descending order of their similarity. Each line in the output\n",
        "file should be a duplet in the form of (item id, user id), where the user id is the\n",
        "id of the kth similar user. The order of the images corresponding to the same\n",
        "similar user would not matter. The output file would look something like this:\n",
        "```\n",
        "item_id_1_of_1st_similar_user 1st_most_similar_user_id\n",
        "item_id_2_of_1st_similar_user 1st_most_similar_user_id\n",
        "item_id_3_of_1st_similar_user 1st_most_similar_user_id\n",
        "...\n",
        "item_id_1_of_2nd_similar_user 2nd_most_similar_user_id\n",
        "item_id_2_of_2nd_similar_user 2nd_most_similar_user_id\n",
        "item_id_3_of_2nd_similar_user 2nd_most_similar_user_id\n",
        "...\n",
        "item_id_1_of_kth_similar_user kth_most_similar_user_id\n",
        "item_id_2_of_kth_similar_user kth_most_similar_user_id\n",
        "item_id_3_of_kth_similar_user kth_most_similar_user_id\n",
        "```"
      ]
    },
    {
      "cell_type": "markdown",
      "id": "26d46fd2",
      "metadata": {
        "id": "26d46fd2"
      },
      "source": [
        "You may use any other recommendation system that you wish to use. However,\n",
        "evaluation script will score your submission by measuring the similarity between\n",
        "users with the number of common images they appreciated.\n",
        "The dataset was extracted using Behance’s API as a part of the paper\n",
        "“Vista: A visually, socially, and temporally-aware model for artistic\n",
        "recommendation, RecSys, 2016”. Check out this [Google Drive folder](https://drive.google.com/drive/folders/0B9Ck8jw-TZUEc3NlMjVXdDlPU1k?resourcekey=0-6_8ykn0o4fLc5fuTEm91xA) for\n",
        "more information about the dataset.\n",
        "\n",
        "\n",
        "Have fun! The users are waiting to see new pictures!"
      ]
    },
    {
      "cell_type": "markdown",
      "id": "912088cf",
      "metadata": {
        "id": "912088cf"
      },
      "source": [
        "### Import necessary libraries"
      ]
    },
    {
      "cell_type": "code",
      "execution_count": 38,
      "id": "13e9cbe3",
      "metadata": {
        "id": "13e9cbe3"
      },
      "outputs": [],
      "source": [
        "import numpy as np\n",
        "import pandas as pd"
      ]
    },
    {
      "cell_type": "code",
      "execution_count": 39,
      "id": "0c9c4cd1",
      "metadata": {
        "id": "0c9c4cd1"
      },
      "outputs": [],
      "source": [
        "# Config Generation Sample Code.\n",
        "# ⚠️ Only for experimentation on your side.\n",
        "# ⚠️ Should be commented during submission.\n",
        "\n",
        "# df = pd.DataFrame(data=[{'id':276633,\n",
        "#                   'k':5,\n",
        "#                   'dataset_file':'./Behance_appreciate_1M',\n",
        "#                   'output_file':'./output.txt'}])\n",
        "# df.to_csv('config.csv')"
      ]
    },
    {
      "cell_type": "code",
      "execution_count": 40,
      "id": "cb6bc1ff",
      "metadata": {
        "id": "cb6bc1ff",
        "colab": {
          "base_uri": "https://localhost:8080/"
        },
        "outputId": "a92b605c-35e4-4be4-aebd-f6cdfaa41731"
      },
      "outputs": [
        {
          "output_type": "stream",
          "name": "stdout",
          "text": [
            "Unnamed: 0                            0\n",
            "id                               276633\n",
            "k                                     5\n",
            "dataset_file    ./Behance_appreciate_1M\n",
            "output_file                ./output.txt\n",
            "Name: 0, dtype: object\n"
          ]
        }
      ],
      "source": [
        "config = pd.read_csv('config.csv').iloc[0]\n",
        "print(config)"
      ]
    },
    {
      "cell_type": "code",
      "execution_count": 41,
      "id": "4966a889",
      "metadata": {
        "id": "4966a889"
      },
      "outputs": [],
      "source": [
        "user = config['id']\n",
        "k_value = config['k']"
      ]
    },
    {
      "cell_type": "markdown",
      "id": "e8e50dee",
      "metadata": {
        "id": "e8e50dee"
      },
      "source": [
        "### Read the Data"
      ]
    },
    {
      "cell_type": "code",
      "execution_count": 42,
      "id": "cd74173b",
      "metadata": {
        "id": "cd74173b"
      },
      "outputs": [],
      "source": [
        "with open(config['dataset_file'], 'r') as inFile:\n",
        "    appreciate_data = inFile.readlines()"
      ]
    },
    {
      "cell_type": "markdown",
      "id": "e09e9961",
      "metadata": {
        "id": "e09e9961"
      },
      "source": [
        "### Initialize a dictionary to store the item_ids that a user likes\n",
        "\n",
        "### Go through each line of the input file and construct the user_likes dictionary"
      ]
    },
    {
      "cell_type": "code",
      "execution_count": 43,
      "id": "8ff4a80d",
      "metadata": {
        "id": "8ff4a80d"
      },
      "outputs": [],
      "source": [
        "user_likes = dict()"
      ]
    },
    {
      "cell_type": "code",
      "execution_count": 44,
      "id": "5b55dc0b",
      "metadata": {
        "id": "5b55dc0b"
      },
      "outputs": [],
      "source": [
        "for line in appreciate_data:\n",
        "    line = line.strip()\n",
        "    \n",
        "    user_id = int(line.split()[0])\n",
        "    item_id = int(line.split()[1])\n",
        "\n",
        "    if user_id not in user_likes:\n",
        "        user_likes[user_id] = list()\n",
        "    \n",
        "    user_likes[user_id].append(item_id)"
      ]
    },
    {
      "cell_type": "code",
      "source": [
        "user_index={}\n",
        "index_user={}\n",
        "x=0\n",
        "for k,v in user_likes.items():\n",
        "    user_index[k]=x\n",
        "    index_user[x]=k\n",
        "    x+=1\n",
        "\n",
        "image_index={}\n",
        "x=0\n",
        "for k,v in user_likes.items():\n",
        "    for img in v:\n",
        "        if img not in image_index:\n",
        "            image_index[img]=x\n",
        "            x+=1"
      ],
      "metadata": {
        "id": "CuhEB6cavITU"
      },
      "id": "CuhEB6cavITU",
      "execution_count": 45,
      "outputs": []
    },
    {
      "cell_type": "code",
      "source": [
        "user_list=[]\n",
        "image_list=[]\n",
        "for line in appreciate_data:\n",
        "    line = line.strip()\n",
        "    user_id = int(line.split()[0])\n",
        "    item_id = int(line.split()[1])\n",
        "    user_list.append(user_index[user_id])\n",
        "    image_list.append(image_index[item_id])"
      ],
      "metadata": {
        "id": "PB5NEFCivJBD"
      },
      "id": "PB5NEFCivJBD",
      "execution_count": 46,
      "outputs": []
    },
    {
      "cell_type": "code",
      "source": [
        "from scipy.sparse import csr_matrix\n",
        "row = np.array(user_list)\n",
        "col = np.array(image_list)\n",
        "data = np.ones(row.shape[0])\n",
        "csr_ob=csr_matrix((data, (row, col)), shape=(len(user_index), len(image_index)))"
      ],
      "metadata": {
        "id": "dMR6VjAevK64"
      },
      "id": "dMR6VjAevK64",
      "execution_count": 47,
      "outputs": []
    },
    {
      "cell_type": "code",
      "source": [
        "from sklearn.decomposition import TruncatedSVD\n",
        "svd = TruncatedSVD(n_components=1000)\n",
        "matrix=svd.fit_transform(csr_ob)\n",
        "# print(svd.explained_variance_ratio_.sum())"
      ],
      "metadata": {
        "id": "wv5DugHcvNCX"
      },
      "id": "wv5DugHcvNCX",
      "execution_count": 48,
      "outputs": []
    },
    {
      "cell_type": "code",
      "source": [
        "!apt install libomp-dev\n",
        "!pip install faiss\n",
        "import faiss"
      ],
      "metadata": {
        "colab": {
          "base_uri": "https://localhost:8080/"
        },
        "id": "jBjTSRZd4ppu",
        "outputId": "71ba1027-a86a-4c37-ba40-3a0d8570f439"
      },
      "id": "jBjTSRZd4ppu",
      "execution_count": 49,
      "outputs": [
        {
          "output_type": "stream",
          "name": "stdout",
          "text": [
            "Reading package lists... Done\n",
            "Building dependency tree       \n",
            "Reading state information... Done\n",
            "libomp-dev is already the newest version (5.0.1-1).\n",
            "0 upgraded, 0 newly installed, 0 to remove and 37 not upgraded.\n",
            "Requirement already satisfied: faiss in /usr/local/lib/python3.7/dist-packages (1.5.3)\n",
            "Requirement already satisfied: numpy in /usr/local/lib/python3.7/dist-packages (from faiss) (1.19.5)\n"
          ]
        }
      ]
    },
    {
      "cell_type": "code",
      "source": [
        "d = len(matrix[0]) \n",
        "mat = np.asarray(matrix).astype('float32')\n",
        "index = faiss.IndexFlatL2(d)\n",
        "index.add(mat)"
      ],
      "metadata": {
        "id": "l3R_Q0KB_Bz4"
      },
      "id": "l3R_Q0KB_Bz4",
      "execution_count": 50,
      "outputs": []
    },
    {
      "cell_type": "code",
      "source": [
        "D, I = index.search(mat, int(k_value)*2)\n",
        "# print(I)"
      ],
      "metadata": {
        "id": "mpjdXp-O-aWG"
      },
      "id": "mpjdXp-O-aWG",
      "execution_count": 51,
      "outputs": []
    },
    {
      "cell_type": "code",
      "source": [
        "usr_row_num=user_index[user]\n",
        "listt=[]\n",
        "k=int(k_value)\n",
        "for i in range(1,k*2):\n",
        "    listt.append(index_user[I[usr_row_num][i]])\n",
        "# print(listt)"
      ],
      "metadata": {
        "id": "eyJfzVbfV-Wj"
      },
      "id": "eyJfzVbfV-Wj",
      "execution_count": 52,
      "outputs": []
    },
    {
      "cell_type": "markdown",
      "id": "cd017880",
      "metadata": {
        "id": "cd017880"
      },
      "source": [
        "### Use your choice of Approximate Nearest Neigbor after Collaborative Filtering to find nearest neighbors"
      ]
    },
    {
      "cell_type": "code",
      "execution_count": 53,
      "id": "5ee1d377",
      "metadata": {
        "id": "5ee1d377"
      },
      "outputs": [],
      "source": [
        "images={}\n",
        "def neighbors(user,k_value):\n",
        "    \"\"\" returns an iterable object (like list or generator) \"\"\"\n",
        "    for id in listt:\n",
        "        images[id]=list()\n",
        "        for item in user_likes[id]:\n",
        "            if item not in user_likes[user]:\n",
        "                images[id].append(item)\n",
        "        if(len(images[id])!=0):\n",
        "            k_value=k_value-1\n",
        "        if k_value==0:\n",
        "            return images\n",
        "    pass"
      ]
    },
    {
      "cell_type": "markdown",
      "id": "0b6f24d6",
      "metadata": {
        "id": "0b6f24d6"
      },
      "source": [
        "### Answer the following questions:"
      ]
    },
    {
      "cell_type": "markdown",
      "id": "012f72f8",
      "metadata": {
        "id": "012f72f8"
      },
      "source": [
        "#### Q1. **Explain how your choice of library works**\n",
        "\n",
        "Faiss (Facebook AI Similarity Search) provides several similarity search methods that span a wide spectrum of usage trade-offs.It gives a trade-off between speed and accuracy for a fixed memory usage by focusing on methods that compress the original vectors, because they’re the only ones that scale to data sets of billions of vectors. The algorithm processes the 1 billion vectors and encodes them into an index to reduce index memory size and increase search speed."
      ]
    },
    {
      "cell_type": "markdown",
      "id": "3b0ac14b",
      "metadata": {
        "id": "3b0ac14b"
      },
      "source": [
        "#### Q2. **Compare your choice of library with vanilla KNN.**\n",
        "***Hint: Include Time Complexity, and explain the tradeoff with recall***\n",
        "\n",
        "FAISS makes use of both Euclidean distance and dot product for comparing vectors. It uses  GPU, so search can process calculations in parallel rather than in series and also performs Principle Component Analysis for dimensionality reduction. It divides data points into areas and finds centroid areas, and performs an exhaustive search only on the data points having the closest centroid to the test data point, we can get a complexity of O(sqrt(n)) for calculation of distances and the top k could be found out in O(sqrt(n) + k*log(n)).\n",
        "Faiss on an average performs 300 times faster than the vanilla KNN.  Finding k nearest neighbors for one data point takes O(nd) time in vanilla KNN."
      ]
    },
    {
      "cell_type": "markdown",
      "id": "400d7827",
      "metadata": {
        "id": "400d7827"
      },
      "source": [
        "#### Q3. **Compare your choice of library with implementation of ScaNN, faiss and annoy.**\n",
        "***Hint: Include Time Complexity, and explain the tradeoff with recall***\n",
        "\n",
        "ScaNN\t\n",
        "ScaNN (Scalable Nearest Neighbors) is a method for efficient vector similarity search at a large scale and shows a strong performance with large datasets. It includes search space pruning and quantization for maximum inner product search and it also supports other distance functions such as Euclidean distance. It can be configured to fit datasets with different sizes. It has both TensorFlow and Python APIs.\n",
        "\n",
        "\n",
        "Faiss is a library for efficient similarity search and clustering of dense vectors. It assumes that the instances are represented as vectors and are identified by an integer, and that the vectors can be compared with L2 (Euclidean) distances or dot products. Vectors that are similar to a query vector are those that have the lowest L2 distance or the highest dot product with the query vector. It also supports cosine similarity, since this is a dot product on normalized vectors. \n",
        "\n",
        "\n",
        "Annoy (Approximate Nearest Neighbors Oh Yeah) is a C++ library with Python bindings to search for points in space that are close to a given query point.\n",
        "For example, if we 10,000,000, i.e. 10M entities. In KNN, we will need to find cosine similarity and sort (10M * 10M) pairs and the complexity grows to O(n^2).\n",
        "In annoy, we dont need to calculate and store the similarities and distances of each point with other. It considers only the space with the cluster of points and does not care about the points that have a zero chace of appearing in the neighbourhood. Thus, requires us to build a cluster index first , which basically decides the X leaders with which you'll find similarities. Then, the cluster index is used to find Approximate KNN for all given points. This reduces the complexity from O(n2) to just O(n*k). Storage becomes easier, Calculation becomes faster."
      ]
    },
    {
      "cell_type": "markdown",
      "id": "142440b0",
      "metadata": {
        "id": "142440b0"
      },
      "source": [
        "### Open the output file to write all the lines to the file"
      ]
    },
    {
      "cell_type": "code",
      "execution_count": 54,
      "id": "977b08f9",
      "metadata": {
        "id": "977b08f9"
      },
      "outputs": [],
      "source": [
        "outFile = open('output.txt', 'w')\n",
        "images=neighbors(user,k_value)\n",
        "for n_user,lis in images.items():\n",
        "    for item_id in lis:\n",
        "        outFile.write(str(item_id) + ' ' + str(n_user) + '\\n')\n",
        "\n",
        "outFile.close()"
      ]
    }
  ],
  "metadata": {
    "kernelspec": {
      "display_name": "Python 3",
      "language": "python",
      "name": "python3"
    },
    "language_info": {
      "codemirror_mode": {
        "name": "ipython",
        "version": 3
      },
      "file_extension": ".py",
      "mimetype": "text/x-python",
      "name": "python",
      "nbconvert_exporter": "python",
      "pygments_lexer": "ipython3",
      "version": "3.8.10"
    },
    "colab": {
      "name": "rollnumber_Assignment1_Question2 (1).ipynb",
      "provenance": []
    }
  },
  "nbformat": 4,
  "nbformat_minor": 5
}